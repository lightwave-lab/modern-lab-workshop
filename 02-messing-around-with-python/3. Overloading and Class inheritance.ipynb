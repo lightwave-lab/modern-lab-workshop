{
 "cells": [
  {
   "cell_type": "markdown",
   "metadata": {},
   "source": [
    "### The purpose of this is to show the class inheritance feature and why it is important\n",
    "\n",
    "Inspired from Alex Tait's.\n",
    "\n",
    "We shall create a class that holds an indexed array (x, y), and do some mathematical operations with it:\n",
    "\n",
    "* adding by a constant\n",
    "* multiplying by a constant or by another array\n",
    "* division by a constant or by another array\n",
    "* interpolation"
   ]
  },
  {
   "cell_type": "code",
   "execution_count": null,
   "metadata": {},
   "outputs": [],
   "source": []
  }
 ],
 "metadata": {
  "kernelspec": {
   "display_name": "Python 3",
   "language": "python",
   "name": "python3"
  },
  "language_info": {
   "codemirror_mode": {
    "name": "ipython",
    "version": 3
   },
   "file_extension": ".py",
   "mimetype": "text/x-python",
   "name": "python",
   "nbconvert_exporter": "python",
   "pygments_lexer": "ipython3",
   "version": "3.6.4"
  }
 },
 "nbformat": 4,
 "nbformat_minor": 2
}
