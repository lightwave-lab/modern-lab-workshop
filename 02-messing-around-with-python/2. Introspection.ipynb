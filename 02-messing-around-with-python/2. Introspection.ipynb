{
 "cells": [
  {
   "cell_type": "markdown",
   "metadata": {},
   "source": [
    "## Introspection\n",
    "\n",
    "Go through https://www.ibm.com/developerworks/library/l-pyint/index.html"
   ]
  },
  {
   "cell_type": "code",
   "execution_count": 4,
   "metadata": {},
   "outputs": [
    {
     "name": "stdout",
     "output_type": "stream",
     "text": [
      "I am a tree, and I grow slowly\n",
      "I am a flower, and I grow quickly\n",
      "<class '__main__.Tree'>\n",
      "<class '__main__.Flower'>\n",
      "<class '__main__.Tree'>\n",
      "I am a tree, and I grow slowly\n"
     ]
    }
   ],
   "source": [
    "class Plant(): pass\n",
    "class Tree(Plant): \n",
    "    def grow(self):\n",
    "        print('I am a tree, and I grow slowly')\n",
    "class Flower(Plant):\n",
    "    def grow(self):\n",
    "        print('I am a flower, and I grow quickly')\n",
    "\n",
    "tree = Tree()\n",
    "tree.grow()\n",
    "flower = Flower()\n",
    "flower.grow()\n",
    "print(type(tree))\n",
    "print(type(flower))\n",
    "flower.__class__ = Tree\n",
    "print(type(flower))\n",
    "flower.grow()"
   ]
  },
  {
   "cell_type": "code",
   "execution_count": 5,
   "metadata": {},
   "outputs": [
    {
     "data": {
      "text/plain": [
       "['__class__',\n",
       " '__delattr__',\n",
       " '__dict__',\n",
       " '__dir__',\n",
       " '__doc__',\n",
       " '__eq__',\n",
       " '__format__',\n",
       " '__ge__',\n",
       " '__getattribute__',\n",
       " '__gt__',\n",
       " '__hash__',\n",
       " '__init__',\n",
       " '__init_subclass__',\n",
       " '__le__',\n",
       " '__lt__',\n",
       " '__module__',\n",
       " '__ne__',\n",
       " '__new__',\n",
       " '__reduce__',\n",
       " '__reduce_ex__',\n",
       " '__repr__',\n",
       " '__setattr__',\n",
       " '__sizeof__',\n",
       " '__str__',\n",
       " '__subclasshook__',\n",
       " '__weakref__',\n",
       " 'grow']"
      ]
     },
     "execution_count": 5,
     "metadata": {},
     "output_type": "execute_result"
    }
   ],
   "source": [
    "dir(flower)"
   ]
  },
  {
   "cell_type": "code",
   "execution_count": null,
   "metadata": {},
   "outputs": [],
   "source": []
  }
 ],
 "metadata": {
  "kernelspec": {
   "display_name": "Python 3",
   "language": "python",
   "name": "python3"
  },
  "language_info": {
   "codemirror_mode": {
    "name": "ipython",
    "version": 3
   },
   "file_extension": ".py",
   "mimetype": "text/x-python",
   "name": "python",
   "nbconvert_exporter": "python",
   "pygments_lexer": "ipython3",
   "version": "3.6.4"
  }
 },
 "nbformat": 4,
 "nbformat_minor": 2
}
